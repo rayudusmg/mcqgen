{
 "cells": [
  {
   "cell_type": "code",
   "execution_count": 37,
   "id": "efd00fd3",
   "metadata": {},
   "outputs": [],
   "source": [
    "import os\n",
    "import json\n",
    "import pandas as pd\n",
    "import traceback\n",
    "from dotenv import load_dotenv\n",
    "import os"
   ]
  },
  {
   "cell_type": "code",
   "execution_count": 66,
   "id": "522f34f1",
   "metadata": {},
   "outputs": [],
   "source": [
    "load_dotenv()\n",
    "#get the OpenAI API key from environment variables  \n",
    "openai_api_key = os.getenv(\"OPENAI_API_KEY\") "
   ]
  },
  {
   "cell_type": "code",
   "execution_count": 67,
   "id": "aa4b2dea",
   "metadata": {},
   "outputs": [],
   "source": [
    "from langchain.chat_models import ChatOpenAI\n",
    "from  langchain import PromptTemplate\n",
    "from langchain.chains import LLMChain\n",
    "from langchain.chains import SequentialChain\n",
    "from langchain.callbacks import get_openai_callback\n",
    "import PyPDF2"
   ]
  },
  {
   "cell_type": "code",
   "execution_count": 68,
   "id": "55f49d56",
   "metadata": {},
   "outputs": [],
   "source": [
    "llm= ChatOpenAI(\n",
    "    model_name=\"gpt-3.5-turbo\",\n",
    "    temperature=0.5,\n",
    "    #max_tokens=1000,\n",
    "    openai_api_key=openai_api_key\n",
    ")"
   ]
  },
  {
   "cell_type": "code",
   "execution_count": 69,
   "id": "5941b025",
   "metadata": {},
   "outputs": [],
   "source": [
    "RESPONSE_JSON = {\n",
    "    \"1\": {\n",
    "        \"mcq\": \"multiple choice question\",\n",
    "        \"options\": {\n",
    "            \"a\": \"choice here\",\n",
    "            \"b\": \"choice here\",\n",
    "            \"c\": \"choice here\",\n",
    "            \"d\": \"choice here\",\n",
    "        },\n",
    "        \"correct\": \"correct answer\",\n",
    "    },\n",
    "    \"2\": {\n",
    "        \"mcq\": \"multiple choice question\",\n",
    "        \"options\": {\n",
    "            \"a\": \"choice here\",\n",
    "            \"b\": \"choice here\",\n",
    "            \"c\": \"choice here\",\n",
    "            \"d\": \"choice here\",\n",
    "        },\n",
    "        \"correct\": \"correct answer\",\n",
    "    },\n",
    "    \"3\": {\n",
    "        \"mcq\": \"multiple choice question\",\n",
    "        \"options\": {\n",
    "            \"a\": \"choice here\",\n",
    "            \"b\": \"choice here\",\n",
    "            \"c\": \"choice here\",\n",
    "            \"d\": \"choice here\",\n",
    "        },\n",
    "        \"correct\": \"correct answer\",\n",
    "    },\n",
    "}"
   ]
  },
  {
   "cell_type": "code",
   "execution_count": 70,
   "id": "2a39d7d7",
   "metadata": {},
   "outputs": [],
   "source": [
    "TEMPLATE=\"\"\"\n",
    "Text:{text}\n",
    "You are an expert MCQ maker. Given the above text, it is your job to \\\n",
    "create a quiz  of {number} multiple choice questions for {subject} students in {tone} tone. \n",
    "Make sure the questions are not repeated and check all the questions to be conforming the text as well.\n",
    "Make sure to format your response like  RESPONSE_JSON below  and use it as a guide. \\\n",
    "Ensure to make {number} MCQs\n",
    "### RESPONSE_JSON\n",
    "{response_json}\n",
    "\n",
    "\"\"\""
   ]
  },
  {
   "cell_type": "code",
   "execution_count": 71,
   "id": "8ab55a2e",
   "metadata": {},
   "outputs": [],
   "source": [
    "quiz_generation_prompt = PromptTemplate(\n",
    "    input_variables=[\"text\", \"number\", \"subject\", \"tone\", \"response_json\"],\n",
    "    template=TEMPLATE\n",
    ")   "
   ]
  },
  {
   "cell_type": "code",
   "execution_count": 72,
   "id": "d7439779",
   "metadata": {},
   "outputs": [],
   "source": [
    "quiz_chain= LLMChain(\n",
    "    llm=llm,\n",
    "    prompt=quiz_generation_prompt,\n",
    "    verbose=True,\n",
    "    output_key=\"quiz\",\n",
    ")   "
   ]
  },
  {
   "cell_type": "code",
   "execution_count": 73,
   "id": "6fabe031",
   "metadata": {},
   "outputs": [],
   "source": [
    "TEMPLATE2=\"\"\"\n",
    "You are an expert english grammarian and writer. Given a Multiple Choice Quiz for {subject} students.\\\n",
    "You need to evaluate the complexity of the question and give a complete analysis of the quiz. Only use at max 50 words for complexity analysis. \n",
    "if the quiz is not at per with the cognitive and analytical abilities of the students,\\\n",
    "update the quiz questions which needs to be changed and change the tone such that it perfectly fits the student abilities\n",
    "Quiz_MCQs:\n",
    "{quiz}\n",
    "\n",
    "Check from an expert English Writer of the above quiz:\n",
    "\"\"\""
   ]
  },
  {
   "cell_type": "code",
   "execution_count": 74,
   "id": "50e94a15",
   "metadata": {},
   "outputs": [],
   "source": [
    "quiz_evaluation_prompt = PromptTemplate(\n",
    "    input_variables=[ \"subject\", \"quiz\"],\n",
    "    template=TEMPLATE2\n",
    ")   "
   ]
  },
  {
   "cell_type": "code",
   "execution_count": 75,
   "id": "b2ab4df0",
   "metadata": {},
   "outputs": [],
   "source": [
    "review_chain= LLMChain(\n",
    "    llm=llm,\n",
    "    prompt=quiz_evaluation_prompt,\n",
    "    verbose=True,\n",
    "    output_key=\"review\",\n",
    ")"
   ]
  },
  {
   "cell_type": "code",
   "execution_count": 80,
   "id": "fabd36a6",
   "metadata": {},
   "outputs": [],
   "source": [
    "# Till now we have created the quiz and the review chain, now we need to create a sequential chain to run both of them in sequence\n",
    "sequential_chain = SequentialChain(\n",
    "    chains=[quiz_chain, review_chain],\n",
    "    input_variables=[\"text\", \"number\", \"subject\", \"tone\", \"response_json\"],\n",
    "    output_variables=[\"quiz\", \"review\"],   \n",
    "    verbose=True,\n",
    ")"
   ]
  },
  {
   "cell_type": "code",
   "execution_count": 82,
   "id": "c807dd75",
   "metadata": {},
   "outputs": [],
   "source": [
    "from pathlib import Path\n",
    "file_path=r\"D:\\GenerativeAI\\mcqgen\\data.txt\""
   ]
  },
  {
   "cell_type": "code",
   "execution_count": 83,
   "id": "58587401",
   "metadata": {},
   "outputs": [],
   "source": [
    "#load the text file to variable TEXT\n",
    "with open(file_path, \"r\", encoding=\"utf-8\") as file:\n",
    "    TEXT = file.read()"
   ]
  },
  {
   "cell_type": "code",
   "execution_count": null,
   "id": "5a4b34c3",
   "metadata": {},
   "outputs": [
    {
     "data": {
      "text/plain": [
       "'{\\n    \"1\": {\\n        \"mcq\": \"multiple choice question\",\\n        \"options\": {\\n            \"a\": \"choice here\",\\n            \"b\": \"choice here\",\\n            \"c\": \"choice here\",\\n            \"d\": \"choice here\"\\n        },\\n        \"correct\": \"correct answer\"\\n    },\\n    \"2\": {\\n        \"mcq\": \"multiple choice question\",\\n        \"options\": {\\n            \"a\": \"choice here\",\\n            \"b\": \"choice here\",\\n            \"c\": \"choice here\",\\n            \"d\": \"choice here\"\\n        },\\n        \"correct\": \"correct answer\"\\n    },\\n    \"3\": {\\n        \"mcq\": \"multiple choice question\",\\n        \"options\": {\\n            \"a\": \"choice here\",\\n            \"b\": \"choice here\",\\n            \"c\": \"choice here\",\\n            \"d\": \"choice here\"\\n        },\\n        \"correct\": \"correct answer\"\\n    }\\n}'"
      ]
     },
     "execution_count": 88,
     "metadata": {},
     "output_type": "execute_result"
    }
   ],
   "source": [
    "#serialize the response_json to a string    \n",
    "response_json = json.dumps(RESPONSE_JSON, indent=4)"
   ]
  },
  {
   "cell_type": "code",
   "execution_count": 90,
   "id": "a71e103e",
   "metadata": {},
   "outputs": [],
   "source": [
    "NUMBER = 5\n",
    "SUBJECT = \"Computer Science\"        \n",
    "TONE = \"formal\"\n",
    "# Run the sequential chain with the input variables"
   ]
  },
  {
   "cell_type": "code",
   "execution_count": null,
   "id": "8a80fd4b",
   "metadata": {},
   "outputs": [],
   "source": [
    "with get_openai_callback() as cb:\n",
    "    # Run the sequential chain\n",
    "    result = sequential_chain(\n",
    "        {\n",
    "            \"text\": TEXT,\n",
    "            \"number\": NUMBER,\n",
    "            \"subject\": SUBJECT,\n",
    "            \"tone\": TONE,\n",
    "            \"response_json\": response_json\n",
    "        }\n",
    "    )"
   ]
  },
  {
   "cell_type": "code",
   "execution_count": 97,
   "id": "f44854ed",
   "metadata": {},
   "outputs": [
    {
     "name": "stdout",
     "output_type": "stream",
     "text": [
      "Total Tokens Used: 1418\n",
      "Total Cost: $0.002345\n",
      "Completion Tokens: 436\n",
      "Total Prompt Tokens: 982\n"
     ]
    }
   ],
   "source": [
    "print(f'Total Tokens Used: {cb.total_tokens}')\n",
    "print(f'Total Cost: ${cb.total_cost}')\n",
    "print(f'Completion Tokens: {cb.completion_tokens}')\n",
    "print(f'Total Prompt Tokens: {cb.prompt_tokens}')"
   ]
  },
  {
   "cell_type": "code",
   "execution_count": 101,
   "id": "726a6494",
   "metadata": {},
   "outputs": [
    {
     "name": "stdout",
     "output_type": "stream",
     "text": [
      "Quiz Generated:{\n",
      "    \"1\": {\n",
      "        \"mcq\": \"What is the main focus of machine learning?\",\n",
      "        \"options\": {\n",
      "            \"a\": \"Developing and studying statistical algorithms\",\n",
      "            \"b\": \"Creating explicit instructions for tasks\",\n",
      "            \"c\": \"Exploring data analysis through supervised learning\",\n",
      "            \"d\": \"Applying mathematical programming methods\"\n",
      "        },\n",
      "        \"correct\": \"a\"\n",
      "    },\n",
      "    \"2\": {\n",
      "        \"mcq\": \"Which field of study focuses on exploratory data analysis via unsupervised learning?\",\n",
      "        \"options\": {\n",
      "            \"a\": \"Machine learning\",\n",
      "            \"b\": \"Natural language processing\",\n",
      "            \"c\": \"Data mining\",\n",
      "            \"d\": \"Predictive analytics\"\n",
      "        },\n",
      "        \"correct\": \"c\"\n",
      "    },\n",
      "    \"3\": {\n",
      "        \"mcq\": \"What has allowed neural networks to surpass many previous machine learning approaches in performance?\",\n",
      "        \"options\": {\n",
      "            \"a\": \"Deep learning\",\n",
      "            \"b\": \"Mathematical optimization\",\n",
      "            \"c\": \"Statistics\",\n",
      "            \"d\": \"Data mining\"\n",
      "        },\n",
      "        \"correct\": \"a\"\n",
      "    },\n",
      "    \"4\": {\n",
      "        \"mcq\": \"What is the application of machine learning to business problems known as?\",\n",
      "        \"options\": {\n",
      "            \"a\": \"Natural language processing\",\n",
      "            \"b\": \"Data mining\",\n",
      "            \"c\": \"Predictive analytics\",\n",
      "            \"d\": \"Computer vision\"\n",
      "        },\n",
      "        \"correct\": \"c\"\n",
      "    },\n",
      "    \"5\": {\n",
      "        \"mcq\": \"Which framework provides a theoretical viewpoint for describing machine learning?\",\n",
      "        \"options\": {\n",
      "            \"a\": \"Deep learning\",\n",
      "            \"b\": \"Probably approximately correct learning\",\n",
      "            \"c\": \"Unsupervised learning\",\n",
      "            \"d\": \"Statistical algorithms\"\n",
      "        },\n",
      "        \"correct\": \"b\"\n",
      "    }\n",
      "}\n"
     ]
    }
   ],
   "source": [
    "quiz=result.get(\"quiz\")  # Get the quiz from the result\n",
    "print(\"Quiz Generated:\" + quiz)"
   ]
  },
  {
   "cell_type": "code",
   "execution_count": 106,
   "id": "4d6fa59c",
   "metadata": {},
   "outputs": [
    {
     "name": "stdout",
     "output_type": "stream",
     "text": [
      "[{'Question': 'What is the main focus of machine learning?', 'Options': 'a: Developing and studying statistical algorithms | b: Creating explicit instructions for tasks | c: Exploring data analysis through supervised learning | d: Applying mathematical programming methods', 'Correct Answer': 'a'}]\n",
      "[{'Question': 'What is the main focus of machine learning?', 'Options': 'a: Developing and studying statistical algorithms | b: Creating explicit instructions for tasks | c: Exploring data analysis through supervised learning | d: Applying mathematical programming methods', 'Correct Answer': 'a'}, {'Question': 'Which field of study focuses on exploratory data analysis via unsupervised learning?', 'Options': 'a: Machine learning | b: Natural language processing | c: Data mining | d: Predictive analytics', 'Correct Answer': 'c'}]\n",
      "[{'Question': 'What is the main focus of machine learning?', 'Options': 'a: Developing and studying statistical algorithms | b: Creating explicit instructions for tasks | c: Exploring data analysis through supervised learning | d: Applying mathematical programming methods', 'Correct Answer': 'a'}, {'Question': 'Which field of study focuses on exploratory data analysis via unsupervised learning?', 'Options': 'a: Machine learning | b: Natural language processing | c: Data mining | d: Predictive analytics', 'Correct Answer': 'c'}, {'Question': 'What has allowed neural networks to surpass many previous machine learning approaches in performance?', 'Options': 'a: Deep learning | b: Mathematical optimization | c: Statistics | d: Data mining', 'Correct Answer': 'a'}]\n",
      "[{'Question': 'What is the main focus of machine learning?', 'Options': 'a: Developing and studying statistical algorithms | b: Creating explicit instructions for tasks | c: Exploring data analysis through supervised learning | d: Applying mathematical programming methods', 'Correct Answer': 'a'}, {'Question': 'Which field of study focuses on exploratory data analysis via unsupervised learning?', 'Options': 'a: Machine learning | b: Natural language processing | c: Data mining | d: Predictive analytics', 'Correct Answer': 'c'}, {'Question': 'What has allowed neural networks to surpass many previous machine learning approaches in performance?', 'Options': 'a: Deep learning | b: Mathematical optimization | c: Statistics | d: Data mining', 'Correct Answer': 'a'}, {'Question': 'What is the application of machine learning to business problems known as?', 'Options': 'a: Natural language processing | b: Data mining | c: Predictive analytics | d: Computer vision', 'Correct Answer': 'c'}]\n",
      "[{'Question': 'What is the main focus of machine learning?', 'Options': 'a: Developing and studying statistical algorithms | b: Creating explicit instructions for tasks | c: Exploring data analysis through supervised learning | d: Applying mathematical programming methods', 'Correct Answer': 'a'}, {'Question': 'Which field of study focuses on exploratory data analysis via unsupervised learning?', 'Options': 'a: Machine learning | b: Natural language processing | c: Data mining | d: Predictive analytics', 'Correct Answer': 'c'}, {'Question': 'What has allowed neural networks to surpass many previous machine learning approaches in performance?', 'Options': 'a: Deep learning | b: Mathematical optimization | c: Statistics | d: Data mining', 'Correct Answer': 'a'}, {'Question': 'What is the application of machine learning to business problems known as?', 'Options': 'a: Natural language processing | b: Data mining | c: Predictive analytics | d: Computer vision', 'Correct Answer': 'c'}, {'Question': 'Which framework provides a theoretical viewpoint for describing machine learning?', 'Options': 'a: Deep learning | b: Probably approximately correct learning | c: Unsupervised learning | d: Statistical algorithms', 'Correct Answer': 'b'}]\n"
     ]
    }
   ],
   "source": [
    "quiz_table_data = []\n",
    "\n",
    "# Parse the quiz string to extract questions and options\n",
    "quiz_dict = json.loads(quiz)\n",
    "for key, value in quiz_dict.items():\n",
    "    mcq = value[\"mcq\"]\n",
    "    options = \" | \".join(\n",
    "        [\n",
    "            f\"{option}: {option_value}\"\n",
    "            for option, option_value in value[\"options\"].items()\n",
    "        ]\n",
    "    )\n",
    "    correct = value[\"correct\"]\n",
    "    quiz_table_data.append({\n",
    "        \"Question\": mcq,\n",
    "        \"Options\": options,\n",
    "        \"Correct Answer\": correct\n",
    "    })\n",
    "    print(quiz_table_data)"
   ]
  },
  {
   "cell_type": "code",
   "execution_count": null,
   "id": "18144df4",
   "metadata": {},
   "outputs": [
    {
     "data": {
      "text/html": [
       "<div>\n",
       "<style scoped>\n",
       "    .dataframe tbody tr th:only-of-type {\n",
       "        vertical-align: middle;\n",
       "    }\n",
       "\n",
       "    .dataframe tbody tr th {\n",
       "        vertical-align: top;\n",
       "    }\n",
       "\n",
       "    .dataframe thead th {\n",
       "        text-align: right;\n",
       "    }\n",
       "</style>\n",
       "<table border=\"1\" class=\"dataframe\">\n",
       "  <thead>\n",
       "    <tr style=\"text-align: right;\">\n",
       "      <th></th>\n",
       "      <th>Question</th>\n",
       "      <th>Options</th>\n",
       "      <th>Correct Answer</th>\n",
       "    </tr>\n",
       "  </thead>\n",
       "  <tbody>\n",
       "    <tr>\n",
       "      <th>0</th>\n",
       "      <td>What is the main focus of machine learning?</td>\n",
       "      <td>a: Developing and studying statistical algorit...</td>\n",
       "      <td>a</td>\n",
       "    </tr>\n",
       "    <tr>\n",
       "      <th>1</th>\n",
       "      <td>Which field of study focuses on exploratory da...</td>\n",
       "      <td>a: Machine learning | b: Natural language proc...</td>\n",
       "      <td>c</td>\n",
       "    </tr>\n",
       "    <tr>\n",
       "      <th>2</th>\n",
       "      <td>What has allowed neural networks to surpass ma...</td>\n",
       "      <td>a: Deep learning | b: Mathematical optimizatio...</td>\n",
       "      <td>a</td>\n",
       "    </tr>\n",
       "    <tr>\n",
       "      <th>3</th>\n",
       "      <td>What is the application of machine learning to...</td>\n",
       "      <td>a: Natural language processing | b: Data minin...</td>\n",
       "      <td>c</td>\n",
       "    </tr>\n",
       "    <tr>\n",
       "      <th>4</th>\n",
       "      <td>Which framework provides a theoretical viewpoi...</td>\n",
       "      <td>a: Deep learning | b: Probably approximately c...</td>\n",
       "      <td>b</td>\n",
       "    </tr>\n",
       "  </tbody>\n",
       "</table>\n",
       "</div>"
      ],
      "text/plain": [
       "                                            Question  \\\n",
       "0        What is the main focus of machine learning?   \n",
       "1  Which field of study focuses on exploratory da...   \n",
       "2  What has allowed neural networks to surpass ma...   \n",
       "3  What is the application of machine learning to...   \n",
       "4  Which framework provides a theoretical viewpoi...   \n",
       "\n",
       "                                             Options Correct Answer  \n",
       "0  a: Developing and studying statistical algorit...              a  \n",
       "1  a: Machine learning | b: Natural language proc...              c  \n",
       "2  a: Deep learning | b: Mathematical optimizatio...              a  \n",
       "3  a: Natural language processing | b: Data minin...              c  \n",
       "4  a: Deep learning | b: Probably approximately c...              b  "
      ]
     },
     "execution_count": 107,
     "metadata": {},
     "output_type": "execute_result"
    }
   ],
   "source": [
    "quiz=pd.DataFrame(quiz_table_data)"
   ]
  },
  {
   "cell_type": "code",
   "execution_count": 111,
   "id": "5233670e",
   "metadata": {},
   "outputs": [],
   "source": [
    "# If you have overwritten 'quiz' with a string, use the DataFrame variable created earlier\n",
    "quiz_df = pd.DataFrame(quiz_table_data)\n",
    "quiz_df.to_csv(\"quiz.csv\", index=False)"
   ]
  }
 ],
 "metadata": {
  "kernelspec": {
   "display_name": "Python 3",
   "language": "python",
   "name": "python3"
  },
  "language_info": {
   "codemirror_mode": {
    "name": "ipython",
    "version": 3
   },
   "file_extension": ".py",
   "mimetype": "text/x-python",
   "name": "python",
   "nbconvert_exporter": "python",
   "pygments_lexer": "ipython3",
   "version": "3.8.20"
  }
 },
 "nbformat": 4,
 "nbformat_minor": 5
}
